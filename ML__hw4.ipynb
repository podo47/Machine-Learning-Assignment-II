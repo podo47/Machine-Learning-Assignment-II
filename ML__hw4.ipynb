{
  "nbformat": 4,
  "nbformat_minor": 0,
  "metadata": {
    "colab": {
      "provenance": [],
      "toc_visible": true,
      "mount_file_id": "12A81PbIA6bw4MFIQqavZske5BuiOF_8O",
      "authorship_tag": "ABX9TyNawTuukzE9lD165ywCzapO",
      "include_colab_link": true
    },
    "kernelspec": {
      "name": "python3",
      "display_name": "Python 3"
    },
    "language_info": {
      "name": "python"
    },
    "gpuClass": "standard"
  },
  "cells": [
    {
      "cell_type": "markdown",
      "metadata": {
        "id": "view-in-github",
        "colab_type": "text"
      },
      "source": [
        "<a href=\"https://colab.research.google.com/github/podo47/Machine-Learning-Assignment-II/blob/main/ML__hw4.ipynb\" target=\"_parent\"><img src=\"https://colab.research.google.com/assets/colab-badge.svg\" alt=\"Open In Colab\"/></a>"
      ]
    },
    {
      "cell_type": "markdown",
      "source": [
        "# Import libraries"
      ],
      "metadata": {
        "id": "pomk4OAk17Dt"
      }
    },
    {
      "cell_type": "code",
      "source": [
        "import numpy as np # linear algebra\n",
        "import pandas as pd # data processing, CSV file I/O (e.g. pd.read_csv)\n",
        "import matplotlib.pyplot as plt # for data visualization purposes\n",
        "import seaborn as sns # for statistical data visualization\n",
        "from collections import Counter\n",
        "%matplotlib inline"
      ],
      "metadata": {
        "id": "IR8sAKvS2J4u"
      },
      "execution_count": 7,
      "outputs": []
    },
    {
      "cell_type": "code",
      "source": [
        "import warnings\n",
        "warnings.filterwarnings('ignore')"
      ],
      "metadata": {
        "id": "sWjrgNAkKn5k"
      },
      "execution_count": 8,
      "outputs": []
    },
    {
      "cell_type": "markdown",
      "source": [
        "# Import data"
      ],
      "metadata": {
        "id": "nswSWBL45jVQ"
      }
    },
    {
      "cell_type": "code",
      "execution_count": 9,
      "metadata": {
        "id": "nTVjVd0d1hiH",
        "colab": {
          "base_uri": "https://localhost:8080/",
          "height": 299
        },
        "outputId": "5602398a-429f-4995-8ebe-ca7c1744ba9d"
      },
      "outputs": [
        {
          "output_type": "execute_result",
          "data": {
            "text/plain": [
              "  policy_id  policy_tenure  age_of_car  age_of_policyholder area_cluster  \\\n",
              "0   ID00001       0.515874        0.05             0.644231           C1   \n",
              "1   ID00002       0.672619        0.02             0.375000           C2   \n",
              "2   ID00003       0.841110        0.02             0.384615           C3   \n",
              "3   ID00004       0.900277        0.11             0.432692           C4   \n",
              "4   ID00005       0.596403        0.11             0.634615           C5   \n",
              "\n",
              "   population_density  make segment model fuel_type  ... is_brake_assist  \\\n",
              "0                4990     1       A    M1       CNG  ...              No   \n",
              "1               27003     1       A    M1       CNG  ...              No   \n",
              "2                4076     1       A    M1       CNG  ...              No   \n",
              "3               21622     1      C1    M2    Petrol  ...             Yes   \n",
              "4               34738     2       A    M3    Petrol  ...              No   \n",
              "\n",
              "  is_power_door_locks is_central_locking  is_power_steering  \\\n",
              "0                  No                 No                Yes   \n",
              "1                  No                 No                Yes   \n",
              "2                  No                 No                Yes   \n",
              "3                 Yes                Yes                Yes   \n",
              "4                 Yes                Yes                Yes   \n",
              "\n",
              "  is_driver_seat_height_adjustable is_day_night_rear_view_mirror is_ecw  \\\n",
              "0                               No                            No     No   \n",
              "1                               No                            No     No   \n",
              "2                               No                            No     No   \n",
              "3                              Yes                           Yes    Yes   \n",
              "4                               No                           Yes    Yes   \n",
              "\n",
              "  is_speed_alert ncap_rating is_claim  \n",
              "0            Yes           0        0  \n",
              "1            Yes           0        0  \n",
              "2            Yes           0        0  \n",
              "3            Yes           2        0  \n",
              "4            Yes           2        0  \n",
              "\n",
              "[5 rows x 44 columns]"
            ],
            "text/html": [
              "\n",
              "  <div id=\"df-6be10890-7e2e-4324-9651-0376207f3800\">\n",
              "    <div class=\"colab-df-container\">\n",
              "      <div>\n",
              "<style scoped>\n",
              "    .dataframe tbody tr th:only-of-type {\n",
              "        vertical-align: middle;\n",
              "    }\n",
              "\n",
              "    .dataframe tbody tr th {\n",
              "        vertical-align: top;\n",
              "    }\n",
              "\n",
              "    .dataframe thead th {\n",
              "        text-align: right;\n",
              "    }\n",
              "</style>\n",
              "<table border=\"1\" class=\"dataframe\">\n",
              "  <thead>\n",
              "    <tr style=\"text-align: right;\">\n",
              "      <th></th>\n",
              "      <th>policy_id</th>\n",
              "      <th>policy_tenure</th>\n",
              "      <th>age_of_car</th>\n",
              "      <th>age_of_policyholder</th>\n",
              "      <th>area_cluster</th>\n",
              "      <th>population_density</th>\n",
              "      <th>make</th>\n",
              "      <th>segment</th>\n",
              "      <th>model</th>\n",
              "      <th>fuel_type</th>\n",
              "      <th>...</th>\n",
              "      <th>is_brake_assist</th>\n",
              "      <th>is_power_door_locks</th>\n",
              "      <th>is_central_locking</th>\n",
              "      <th>is_power_steering</th>\n",
              "      <th>is_driver_seat_height_adjustable</th>\n",
              "      <th>is_day_night_rear_view_mirror</th>\n",
              "      <th>is_ecw</th>\n",
              "      <th>is_speed_alert</th>\n",
              "      <th>ncap_rating</th>\n",
              "      <th>is_claim</th>\n",
              "    </tr>\n",
              "  </thead>\n",
              "  <tbody>\n",
              "    <tr>\n",
              "      <th>0</th>\n",
              "      <td>ID00001</td>\n",
              "      <td>0.515874</td>\n",
              "      <td>0.05</td>\n",
              "      <td>0.644231</td>\n",
              "      <td>C1</td>\n",
              "      <td>4990</td>\n",
              "      <td>1</td>\n",
              "      <td>A</td>\n",
              "      <td>M1</td>\n",
              "      <td>CNG</td>\n",
              "      <td>...</td>\n",
              "      <td>No</td>\n",
              "      <td>No</td>\n",
              "      <td>No</td>\n",
              "      <td>Yes</td>\n",
              "      <td>No</td>\n",
              "      <td>No</td>\n",
              "      <td>No</td>\n",
              "      <td>Yes</td>\n",
              "      <td>0</td>\n",
              "      <td>0</td>\n",
              "    </tr>\n",
              "    <tr>\n",
              "      <th>1</th>\n",
              "      <td>ID00002</td>\n",
              "      <td>0.672619</td>\n",
              "      <td>0.02</td>\n",
              "      <td>0.375000</td>\n",
              "      <td>C2</td>\n",
              "      <td>27003</td>\n",
              "      <td>1</td>\n",
              "      <td>A</td>\n",
              "      <td>M1</td>\n",
              "      <td>CNG</td>\n",
              "      <td>...</td>\n",
              "      <td>No</td>\n",
              "      <td>No</td>\n",
              "      <td>No</td>\n",
              "      <td>Yes</td>\n",
              "      <td>No</td>\n",
              "      <td>No</td>\n",
              "      <td>No</td>\n",
              "      <td>Yes</td>\n",
              "      <td>0</td>\n",
              "      <td>0</td>\n",
              "    </tr>\n",
              "    <tr>\n",
              "      <th>2</th>\n",
              "      <td>ID00003</td>\n",
              "      <td>0.841110</td>\n",
              "      <td>0.02</td>\n",
              "      <td>0.384615</td>\n",
              "      <td>C3</td>\n",
              "      <td>4076</td>\n",
              "      <td>1</td>\n",
              "      <td>A</td>\n",
              "      <td>M1</td>\n",
              "      <td>CNG</td>\n",
              "      <td>...</td>\n",
              "      <td>No</td>\n",
              "      <td>No</td>\n",
              "      <td>No</td>\n",
              "      <td>Yes</td>\n",
              "      <td>No</td>\n",
              "      <td>No</td>\n",
              "      <td>No</td>\n",
              "      <td>Yes</td>\n",
              "      <td>0</td>\n",
              "      <td>0</td>\n",
              "    </tr>\n",
              "    <tr>\n",
              "      <th>3</th>\n",
              "      <td>ID00004</td>\n",
              "      <td>0.900277</td>\n",
              "      <td>0.11</td>\n",
              "      <td>0.432692</td>\n",
              "      <td>C4</td>\n",
              "      <td>21622</td>\n",
              "      <td>1</td>\n",
              "      <td>C1</td>\n",
              "      <td>M2</td>\n",
              "      <td>Petrol</td>\n",
              "      <td>...</td>\n",
              "      <td>Yes</td>\n",
              "      <td>Yes</td>\n",
              "      <td>Yes</td>\n",
              "      <td>Yes</td>\n",
              "      <td>Yes</td>\n",
              "      <td>Yes</td>\n",
              "      <td>Yes</td>\n",
              "      <td>Yes</td>\n",
              "      <td>2</td>\n",
              "      <td>0</td>\n",
              "    </tr>\n",
              "    <tr>\n",
              "      <th>4</th>\n",
              "      <td>ID00005</td>\n",
              "      <td>0.596403</td>\n",
              "      <td>0.11</td>\n",
              "      <td>0.634615</td>\n",
              "      <td>C5</td>\n",
              "      <td>34738</td>\n",
              "      <td>2</td>\n",
              "      <td>A</td>\n",
              "      <td>M3</td>\n",
              "      <td>Petrol</td>\n",
              "      <td>...</td>\n",
              "      <td>No</td>\n",
              "      <td>Yes</td>\n",
              "      <td>Yes</td>\n",
              "      <td>Yes</td>\n",
              "      <td>No</td>\n",
              "      <td>Yes</td>\n",
              "      <td>Yes</td>\n",
              "      <td>Yes</td>\n",
              "      <td>2</td>\n",
              "      <td>0</td>\n",
              "    </tr>\n",
              "  </tbody>\n",
              "</table>\n",
              "<p>5 rows × 44 columns</p>\n",
              "</div>\n",
              "      <button class=\"colab-df-convert\" onclick=\"convertToInteractive('df-6be10890-7e2e-4324-9651-0376207f3800')\"\n",
              "              title=\"Convert this dataframe to an interactive table.\"\n",
              "              style=\"display:none;\">\n",
              "        \n",
              "  <svg xmlns=\"http://www.w3.org/2000/svg\" height=\"24px\"viewBox=\"0 0 24 24\"\n",
              "       width=\"24px\">\n",
              "    <path d=\"M0 0h24v24H0V0z\" fill=\"none\"/>\n",
              "    <path d=\"M18.56 5.44l.94 2.06.94-2.06 2.06-.94-2.06-.94-.94-2.06-.94 2.06-2.06.94zm-11 1L8.5 8.5l.94-2.06 2.06-.94-2.06-.94L8.5 2.5l-.94 2.06-2.06.94zm10 10l.94 2.06.94-2.06 2.06-.94-2.06-.94-.94-2.06-.94 2.06-2.06.94z\"/><path d=\"M17.41 7.96l-1.37-1.37c-.4-.4-.92-.59-1.43-.59-.52 0-1.04.2-1.43.59L10.3 9.45l-7.72 7.72c-.78.78-.78 2.05 0 2.83L4 21.41c.39.39.9.59 1.41.59.51 0 1.02-.2 1.41-.59l7.78-7.78 2.81-2.81c.8-.78.8-2.07 0-2.86zM5.41 20L4 18.59l7.72-7.72 1.47 1.35L5.41 20z\"/>\n",
              "  </svg>\n",
              "      </button>\n",
              "      \n",
              "  <style>\n",
              "    .colab-df-container {\n",
              "      display:flex;\n",
              "      flex-wrap:wrap;\n",
              "      gap: 12px;\n",
              "    }\n",
              "\n",
              "    .colab-df-convert {\n",
              "      background-color: #E8F0FE;\n",
              "      border: none;\n",
              "      border-radius: 50%;\n",
              "      cursor: pointer;\n",
              "      display: none;\n",
              "      fill: #1967D2;\n",
              "      height: 32px;\n",
              "      padding: 0 0 0 0;\n",
              "      width: 32px;\n",
              "    }\n",
              "\n",
              "    .colab-df-convert:hover {\n",
              "      background-color: #E2EBFA;\n",
              "      box-shadow: 0px 1px 2px rgba(60, 64, 67, 0.3), 0px 1px 3px 1px rgba(60, 64, 67, 0.15);\n",
              "      fill: #174EA6;\n",
              "    }\n",
              "\n",
              "    [theme=dark] .colab-df-convert {\n",
              "      background-color: #3B4455;\n",
              "      fill: #D2E3FC;\n",
              "    }\n",
              "\n",
              "    [theme=dark] .colab-df-convert:hover {\n",
              "      background-color: #434B5C;\n",
              "      box-shadow: 0px 1px 3px 1px rgba(0, 0, 0, 0.15);\n",
              "      filter: drop-shadow(0px 1px 2px rgba(0, 0, 0, 0.3));\n",
              "      fill: #FFFFFF;\n",
              "    }\n",
              "  </style>\n",
              "\n",
              "      <script>\n",
              "        const buttonEl =\n",
              "          document.querySelector('#df-6be10890-7e2e-4324-9651-0376207f3800 button.colab-df-convert');\n",
              "        buttonEl.style.display =\n",
              "          google.colab.kernel.accessAllowed ? 'block' : 'none';\n",
              "\n",
              "        async function convertToInteractive(key) {\n",
              "          const element = document.querySelector('#df-6be10890-7e2e-4324-9651-0376207f3800');\n",
              "          const dataTable =\n",
              "            await google.colab.kernel.invokeFunction('convertToInteractive',\n",
              "                                                     [key], {});\n",
              "          if (!dataTable) return;\n",
              "\n",
              "          const docLinkHtml = 'Like what you see? Visit the ' +\n",
              "            '<a target=\"_blank\" href=https://colab.research.google.com/notebooks/data_table.ipynb>data table notebook</a>'\n",
              "            + ' to learn more about interactive tables.';\n",
              "          element.innerHTML = '';\n",
              "          dataTable['output_type'] = 'display_data';\n",
              "          await google.colab.output.renderOutput(dataTable, element);\n",
              "          const docLink = document.createElement('div');\n",
              "          docLink.innerHTML = docLinkHtml;\n",
              "          element.appendChild(docLink);\n",
              "        }\n",
              "      </script>\n",
              "    </div>\n",
              "  </div>\n",
              "  "
            ]
          },
          "metadata": {},
          "execution_count": 9
        }
      ],
      "source": [
        "data=\"/content/drive/MyDrive/ML_hw4/train.csv\"\n",
        "train_df = pd.read_csv(data)\n",
        "train_df.head()"
      ]
    },
    {
      "cell_type": "markdown",
      "source": [
        "# Exploratory data analysis"
      ],
      "metadata": {
        "id": "A5kJNeOX_QSx"
      }
    },
    {
      "cell_type": "code",
      "source": [
        "# Printing the shape of the train dataset\n",
        "print(train_df.shape)"
      ],
      "metadata": {
        "colab": {
          "base_uri": "https://localhost:8080/"
        },
        "id": "5o5HNmgN_XEd",
        "outputId": "12c0f733-4e36-4e4c-fb10-b4c4f230c23f"
      },
      "execution_count": 10,
      "outputs": [
        {
          "output_type": "stream",
          "name": "stdout",
          "text": [
            "(58592, 44)\n"
          ]
        }
      ]
    },
    {
      "cell_type": "code",
      "source": [
        "# View summary of the dataset\n",
        "train_df.info()"
      ],
      "metadata": {
        "colab": {
          "base_uri": "https://localhost:8080/"
        },
        "id": "1VlLuZ7l23HZ",
        "outputId": "4d0ceb3e-e09a-4338-c76b-aca202cb0755"
      },
      "execution_count": 11,
      "outputs": [
        {
          "output_type": "stream",
          "name": "stdout",
          "text": [
            "<class 'pandas.core.frame.DataFrame'>\n",
            "RangeIndex: 58592 entries, 0 to 58591\n",
            "Data columns (total 44 columns):\n",
            " #   Column                            Non-Null Count  Dtype  \n",
            "---  ------                            --------------  -----  \n",
            " 0   policy_id                         58592 non-null  object \n",
            " 1   policy_tenure                     58592 non-null  float64\n",
            " 2   age_of_car                        58592 non-null  float64\n",
            " 3   age_of_policyholder               58592 non-null  float64\n",
            " 4   area_cluster                      58592 non-null  object \n",
            " 5   population_density                58592 non-null  int64  \n",
            " 6   make                              58592 non-null  int64  \n",
            " 7   segment                           58592 non-null  object \n",
            " 8   model                             58592 non-null  object \n",
            " 9   fuel_type                         58592 non-null  object \n",
            " 10  max_torque                        58592 non-null  object \n",
            " 11  max_power                         58592 non-null  object \n",
            " 12  engine_type                       58592 non-null  object \n",
            " 13  airbags                           58592 non-null  int64  \n",
            " 14  is_esc                            58592 non-null  object \n",
            " 15  is_adjustable_steering            58592 non-null  object \n",
            " 16  is_tpms                           58592 non-null  object \n",
            " 17  is_parking_sensors                58592 non-null  object \n",
            " 18  is_parking_camera                 58592 non-null  object \n",
            " 19  rear_brakes_type                  58592 non-null  object \n",
            " 20  displacement                      58592 non-null  int64  \n",
            " 21  cylinder                          58592 non-null  int64  \n",
            " 22  transmission_type                 58592 non-null  object \n",
            " 23  gear_box                          58592 non-null  int64  \n",
            " 24  steering_type                     58592 non-null  object \n",
            " 25  turning_radius                    58592 non-null  float64\n",
            " 26  length                            58592 non-null  int64  \n",
            " 27  width                             58592 non-null  int64  \n",
            " 28  height                            58592 non-null  int64  \n",
            " 29  gross_weight                      58592 non-null  int64  \n",
            " 30  is_front_fog_lights               58592 non-null  object \n",
            " 31  is_rear_window_wiper              58592 non-null  object \n",
            " 32  is_rear_window_washer             58592 non-null  object \n",
            " 33  is_rear_window_defogger           58592 non-null  object \n",
            " 34  is_brake_assist                   58592 non-null  object \n",
            " 35  is_power_door_locks               58592 non-null  object \n",
            " 36  is_central_locking                58592 non-null  object \n",
            " 37  is_power_steering                 58592 non-null  object \n",
            " 38  is_driver_seat_height_adjustable  58592 non-null  object \n",
            " 39  is_day_night_rear_view_mirror     58592 non-null  object \n",
            " 40  is_ecw                            58592 non-null  object \n",
            " 41  is_speed_alert                    58592 non-null  object \n",
            " 42  ncap_rating                       58592 non-null  int64  \n",
            " 43  is_claim                          58592 non-null  int64  \n",
            "dtypes: float64(4), int64(12), object(28)\n",
            "memory usage: 19.7+ MB\n"
          ]
        }
      ]
    },
    {
      "cell_type": "code",
      "source": [
        "# Check for missing values:\n",
        "train_df.isnull().sum()"
      ],
      "metadata": {
        "colab": {
          "base_uri": "https://localhost:8080/"
        },
        "id": "nhVuG-ICAjSY",
        "outputId": "12944e65-b064-4d9a-cd0e-aaf63908914c"
      },
      "execution_count": 12,
      "outputs": [
        {
          "output_type": "execute_result",
          "data": {
            "text/plain": [
              "policy_id                           0\n",
              "policy_tenure                       0\n",
              "age_of_car                          0\n",
              "age_of_policyholder                 0\n",
              "area_cluster                        0\n",
              "population_density                  0\n",
              "make                                0\n",
              "segment                             0\n",
              "model                               0\n",
              "fuel_type                           0\n",
              "max_torque                          0\n",
              "max_power                           0\n",
              "engine_type                         0\n",
              "airbags                             0\n",
              "is_esc                              0\n",
              "is_adjustable_steering              0\n",
              "is_tpms                             0\n",
              "is_parking_sensors                  0\n",
              "is_parking_camera                   0\n",
              "rear_brakes_type                    0\n",
              "displacement                        0\n",
              "cylinder                            0\n",
              "transmission_type                   0\n",
              "gear_box                            0\n",
              "steering_type                       0\n",
              "turning_radius                      0\n",
              "length                              0\n",
              "width                               0\n",
              "height                              0\n",
              "gross_weight                        0\n",
              "is_front_fog_lights                 0\n",
              "is_rear_window_wiper                0\n",
              "is_rear_window_washer               0\n",
              "is_rear_window_defogger             0\n",
              "is_brake_assist                     0\n",
              "is_power_door_locks                 0\n",
              "is_central_locking                  0\n",
              "is_power_steering                   0\n",
              "is_driver_seat_height_adjustable    0\n",
              "is_day_night_rear_view_mirror       0\n",
              "is_ecw                              0\n",
              "is_speed_alert                      0\n",
              "ncap_rating                         0\n",
              "is_claim                            0\n",
              "dtype: int64"
            ]
          },
          "metadata": {},
          "execution_count": 12
        }
      ]
    },
    {
      "cell_type": "markdown",
      "source": [
        "**Explore categorical variables**"
      ],
      "metadata": {
        "id": "AED91TuJA2Yl"
      }
    },
    {
      "cell_type": "code",
      "source": [
        "categorical = train_df.select_dtypes(include =[object])\n",
        "print(\"There are {} categorical variables\".format(categorical.shape[1]))\n",
        "print('The categorical variables are :\\n',categorical.columns)"
      ],
      "metadata": {
        "colab": {
          "base_uri": "https://localhost:8080/"
        },
        "id": "yJzRN6__A5GC",
        "outputId": "5e2b835d-e43f-455f-d630-f629abdc73a7"
      },
      "execution_count": 13,
      "outputs": [
        {
          "output_type": "stream",
          "name": "stdout",
          "text": [
            "There are 28 categorical variables\n",
            "The categorical variables are :\n",
            " Index(['policy_id', 'area_cluster', 'segment', 'model', 'fuel_type',\n",
            "       'max_torque', 'max_power', 'engine_type', 'is_esc',\n",
            "       'is_adjustable_steering', 'is_tpms', 'is_parking_sensors',\n",
            "       'is_parking_camera', 'rear_brakes_type', 'transmission_type',\n",
            "       'steering_type', 'is_front_fog_lights', 'is_rear_window_wiper',\n",
            "       'is_rear_window_washer', 'is_rear_window_defogger', 'is_brake_assist',\n",
            "       'is_power_door_locks', 'is_central_locking', 'is_power_steering',\n",
            "       'is_driver_seat_height_adjustable', 'is_day_night_rear_view_mirror',\n",
            "       'is_ecw', 'is_speed_alert'],\n",
            "      dtype='object')\n"
          ]
        }
      ]
    },
    {
      "cell_type": "markdown",
      "source": [
        "**Explore numerical variables**"
      ],
      "metadata": {
        "id": "bkis7AJAIgTY"
      }
    },
    {
      "cell_type": "code",
      "source": [
        "numerical = train_df.select_dtypes(include =[np.float64,np.int64])\n",
        "print(\"There are {} numerical variables\".format(numerical.shape[1]))\n",
        "print('The numerical variables are :\\n',numerical.columns)"
      ],
      "metadata": {
        "colab": {
          "base_uri": "https://localhost:8080/"
        },
        "id": "F-N43nzCDRvC",
        "outputId": "65114cc5-5608-4ea1-828c-23a864ec97d4"
      },
      "execution_count": 14,
      "outputs": [
        {
          "output_type": "stream",
          "name": "stdout",
          "text": [
            "There are 16 numerical variables\n",
            "The numerical variables are :\n",
            " Index(['policy_tenure', 'age_of_car', 'age_of_policyholder',\n",
            "       'population_density', 'make', 'airbags', 'displacement', 'cylinder',\n",
            "       'gear_box', 'turning_radius', 'length', 'width', 'height',\n",
            "       'gross_weight', 'ncap_rating', 'is_claim'],\n",
            "      dtype='object')\n"
          ]
        }
      ]
    },
    {
      "cell_type": "markdown",
      "source": [
        "**Check if data is imbalanced**"
      ],
      "metadata": {
        "id": "izeWdJu0JnKX"
      }
    },
    {
      "cell_type": "code",
      "source": [
        "print(train_df.is_claim.value_counts())\n",
        "sns.barplot(x = [0, 1], y = [54844, 3784])"
      ],
      "metadata": {
        "colab": {
          "base_uri": "https://localhost:8080/",
          "height": 334
        },
        "id": "75o3uHN_KCB1",
        "outputId": "74864eef-cad3-419f-b87d-dd53c746fe18"
      },
      "execution_count": 15,
      "outputs": [
        {
          "output_type": "stream",
          "name": "stdout",
          "text": [
            "0    54844\n",
            "1     3748\n",
            "Name: is_claim, dtype: int64\n"
          ]
        },
        {
          "output_type": "execute_result",
          "data": {
            "text/plain": [
              "<matplotlib.axes._subplots.AxesSubplot at 0x7f63d4f74280>"
            ]
          },
          "metadata": {},
          "execution_count": 15
        },
        {
          "output_type": "display_data",
          "data": {
            "text/plain": [
              "<Figure size 432x288 with 1 Axes>"
            ],
            "image/png": "[encoded data removed]"
          },
          "metadata": {
            "needs_background": "light"
          }
        }
      ]
    },
    {
      "cell_type": "markdown",
      "source": [
        "# Data preprocessing"
      ],
      "metadata": {
        "id": "v_UzkFokMrxz"
      }
    },
    {
      "cell_type": "markdown",
      "source": [
        "**Drop useless features**"
      ],
      "metadata": {
        "id": "Fp-z53CMnmGc"
      }
    },
    {
      "cell_type": "code",
      "source": [
        "train = train_df.copy()\n",
        "train.drop(['policy_id'], axis=1, inplace=True)"
      ],
      "metadata": {
        "id": "nftKdmpSNDJi"
      },
      "execution_count": 16,
      "outputs": []
    },
    {
      "cell_type": "markdown",
      "source": [
        "**Label Encoding**"
      ],
      "metadata": {
        "id": "z0xQgfLBm90q"
      }
    },
    {
      "cell_type": "code",
      "source": [
        "# Ordinal variables\n",
        "train['transmission_type'] = train['transmission_type'].map({'Manual': 0, 'Automatic': 1})\n",
        "train['steering_type'] = train['steering_type'].map({'Manual': 0, 'Power': 1, 'Electric': 2})\n",
        "\n",
        "train[['max_torque_Nm','max_torque_rpm']] = train[\"max_torque\"].apply(lambda n: pd.Series(str(n).split(\"@\")))\n",
        "train.drop([\"max_torque\"], axis=1, inplace= True)\n",
        "train['max_torque_Nm'] = train['max_torque_Nm'].str[:-2].astype(float)\n",
        "train['max_torque_rpm'] = train['max_torque_rpm'].str[:-3].astype(int)\n",
        "\n",
        "train[['max_power_bhp','max_power_rpm']] = train[\"max_power\"].apply(lambda n: pd.Series(str(n).split(\"@\")))\n",
        "train.drop([\"max_power\"], axis=1, inplace= True)\n",
        "train['max_power_rpm'] = train['max_power_rpm'].str[:-3].astype(int)\n",
        "train['max_power_bhp'] = train['max_power_bhp'].str[:-3].astype(float)"
      ],
      "metadata": {
        "id": "dLQi0suXm8zC"
      },
      "execution_count": 17,
      "outputs": []
    },
    {
      "cell_type": "markdown",
      "source": [
        "**One-hot Encoding**"
      ],
      "metadata": {
        "id": "xiV9RkhnoF-F"
      }
    },
    {
      "cell_type": "code",
      "source": [
        "train = pd.get_dummies(train, drop_first=True)"
      ],
      "metadata": {
        "id": "X8q73q7l7slS"
      },
      "execution_count": 18,
      "outputs": []
    },
    {
      "cell_type": "code",
      "source": [
        "train.head()"
      ],
      "metadata": {
        "colab": {
          "base_uri": "https://localhost:8080/",
          "height": 299
        },
        "id": "HU4SyKQqDdBa",
        "outputId": "1e385ffe-0f4c-47b8-e77d-f190390d75f6"
      },
      "execution_count": 19,
      "outputs": [
        {
          "output_type": "execute_result",
          "data": {
            "text/plain": [
              "   policy_tenure  age_of_car  age_of_policyholder  population_density  make  \\\n",
              "0       0.515874        0.05             0.644231                4990     1   \n",
              "1       0.672619        0.02             0.375000               27003     1   \n",
              "2       0.841110        0.02             0.384615                4076     1   \n",
              "3       0.900277        0.11             0.432692               21622     1   \n",
              "4       0.596403        0.11             0.634615               34738     2   \n",
              "\n",
              "   airbags  displacement  cylinder  transmission_type  gear_box  ...  \\\n",
              "0        2           796         3                  0         5  ...   \n",
              "1        2           796         3                  0         5  ...   \n",
              "2        2           796         3                  0         5  ...   \n",
              "3        2          1197         4                  1         5  ...   \n",
              "4        2           999         3                  1         5  ...   \n",
              "\n",
              "   is_rear_window_washer_Yes  is_rear_window_defogger_Yes  \\\n",
              "0                          0                            0   \n",
              "1                          0                            0   \n",
              "2                          0                            0   \n",
              "3                          0                            1   \n",
              "4                          0                            0   \n",
              "\n",
              "   is_brake_assist_Yes  is_power_door_locks_Yes  is_central_locking_Yes  \\\n",
              "0                    0                        0                       0   \n",
              "1                    0                        0                       0   \n",
              "2                    0                        0                       0   \n",
              "3                    1                        1                       1   \n",
              "4                    0                        1                       1   \n",
              "\n",
              "   is_power_steering_Yes  is_driver_seat_height_adjustable_Yes  \\\n",
              "0                      1                                     0   \n",
              "1                      1                                     0   \n",
              "2                      1                                     0   \n",
              "3                      1                                     1   \n",
              "4                      1                                     0   \n",
              "\n",
              "   is_day_night_rear_view_mirror_Yes  is_ecw_Yes  is_speed_alert_Yes  \n",
              "0                                  0           0                   1  \n",
              "1                                  0           0                   1  \n",
              "2                                  0           0                   1  \n",
              "3                                  1           1                   1  \n",
              "4                                  1           1                   1  \n",
              "\n",
              "[5 rows x 88 columns]"
            ],
            "text/html": [
              "\n",
              "  <div id=\"df-ae247cbe-85b1-4d9e-99a8-d6d54f305541\">\n",
              "    <div class=\"colab-df-container\">\n",
              "      <div>\n",
              "<style scoped>\n",
              "    .dataframe tbody tr th:only-of-type {\n",
              "        vertical-align: middle;\n",
              "    }\n",
              "\n",
              "    .dataframe tbody tr th {\n",
              "        vertical-align: top;\n",
              "    }\n",
              "\n",
              "    .dataframe thead th {\n",
              "        text-align: right;\n",
              "    }\n",
              "</style>\n",
              "<table border=\"1\" class=\"dataframe\">\n",
              "  <thead>\n",
              "    <tr style=\"text-align: right;\">\n",
              "      <th></th>\n",
              "      <th>policy_tenure</th>\n",
              "      <th>age_of_car</th>\n",
              "      <th>age_of_policyholder</th>\n",
              "      <th>population_density</th>\n",
              "      <th>make</th>\n",
              "      <th>airbags</th>\n",
              "      <th>displacement</th>\n",
              "      <th>cylinder</th>\n",
              "      <th>transmission_type</th>\n",
              "      <th>gear_box</th>\n",
              "      <th>...</th>\n",
              "      <th>is_rear_window_washer_Yes</th>\n",
              "      <th>is_rear_window_defogger_Yes</th>\n",
              "      <th>is_brake_assist_Yes</th>\n",
              "      <th>is_power_door_locks_Yes</th>\n",
              "      <th>is_central_locking_Yes</th>\n",
              "      <th>is_power_steering_Yes</th>\n",
              "      <th>is_driver_seat_height_adjustable_Yes</th>\n",
              "      <th>is_day_night_rear_view_mirror_Yes</th>\n",
              "      <th>is_ecw_Yes</th>\n",
              "      <th>is_speed_alert_Yes</th>\n",
              "    </tr>\n",
              "  </thead>\n",
              "  <tbody>\n",
              "    <tr>\n",
              "      <th>0</th>\n",
              "      <td>0.515874</td>\n",
              "      <td>0.05</td>\n",
              "      <td>0.644231</td>\n",
              "      <td>4990</td>\n",
              "      <td>1</td>\n",
              "      <td>2</td>\n",
              "      <td>796</td>\n",
              "      <td>3</td>\n",
              "      <td>0</td>\n",
              "      <td>5</td>\n",
              "      <td>...</td>\n",
              "      <td>0</td>\n",
              "      <td>0</td>\n",
              "      <td>0</td>\n",
              "      <td>0</td>\n",
              "      <td>0</td>\n",
              "      <td>1</td>\n",
              "      <td>0</td>\n",
              "      <td>0</td>\n",
              "      <td>0</td>\n",
              "      <td>1</td>\n",
              "    </tr>\n",
              "    <tr>\n",
              "      <th>1</th>\n",
              "      <td>0.672619</td>\n",
              "      <td>0.02</td>\n",
              "      <td>0.375000</td>\n",
              "      <td>27003</td>\n",
              "      <td>1</td>\n",
              "      <td>2</td>\n",
              "      <td>796</td>\n",
              "      <td>3</td>\n",
              "      <td>0</td>\n",
              "      <td>5</td>\n",
              "      <td>...</td>\n",
              "      <td>0</td>\n",
              "      <td>0</td>\n",
              "      <td>0</td>\n",
              "      <td>0</td>\n",
              "      <td>0</td>\n",
              "      <td>1</td>\n",
              "      <td>0</td>\n",
              "      <td>0</td>\n",
              "      <td>0</td>\n",
              "      <td>1</td>\n",
              "    </tr>\n",
              "    <tr>\n",
              "      <th>2</th>\n",
              "      <td>0.841110</td>\n",
              "      <td>0.02</td>\n",
              "      <td>0.384615</td>\n",
              "      <td>4076</td>\n",
              "      <td>1</td>\n",
              "      <td>2</td>\n",
              "      <td>796</td>\n",
              "      <td>3</td>\n",
              "      <td>0</td>\n",
              "      <td>5</td>\n",
              "      <td>...</td>\n",
              "      <td>0</td>\n",
              "      <td>0</td>\n",
              "      <td>0</td>\n",
              "      <td>0</td>\n",
              "      <td>0</td>\n",
              "      <td>1</td>\n",
              "      <td>0</td>\n",
              "      <td>0</td>\n",
              "      <td>0</td>\n",
              "      <td>1</td>\n",
              "    </tr>\n",
              "    <tr>\n",
              "      <th>3</th>\n",
              "      <td>0.900277</td>\n",
              "      <td>0.11</td>\n",
              "      <td>0.432692</td>\n",
              "      <td>21622</td>\n",
              "      <td>1</td>\n",
              "      <td>2</td>\n",
              "      <td>1197</td>\n",
              "      <td>4</td>\n",
              "      <td>1</td>\n",
              "      <td>5</td>\n",
              "      <td>...</td>\n",
              "      <td>0</td>\n",
              "      <td>1</td>\n",
              "      <td>1</td>\n",
              "      <td>1</td>\n",
              "      <td>1</td>\n",
              "      <td>1</td>\n",
              "      <td>1</td>\n",
              "      <td>1</td>\n",
              "      <td>1</td>\n",
              "      <td>1</td>\n",
              "    </tr>\n",
              "    <tr>\n",
              "      <th>4</th>\n",
              "      <td>0.596403</td>\n",
              "      <td>0.11</td>\n",
              "      <td>0.634615</td>\n",
              "      <td>34738</td>\n",
              "      <td>2</td>\n",
              "      <td>2</td>\n",
              "      <td>999</td>\n",
              "      <td>3</td>\n",
              "      <td>1</td>\n",
              "      <td>5</td>\n",
              "      <td>...</td>\n",
              "      <td>0</td>\n",
              "      <td>0</td>\n",
              "      <td>0</td>\n",
              "      <td>1</td>\n",
              "      <td>1</td>\n",
              "      <td>1</td>\n",
              "      <td>0</td>\n",
              "      <td>1</td>\n",
              "      <td>1</td>\n",
              "      <td>1</td>\n",
              "    </tr>\n",
              "  </tbody>\n",
              "</table>\n",
              "<p>5 rows × 88 columns</p>\n",
              "</div>\n",
              "      <button class=\"colab-df-convert\" onclick=\"convertToInteractive('df-ae247cbe-85b1-4d9e-99a8-d6d54f305541')\"\n",
              "              title=\"Convert this dataframe to an interactive table.\"\n",
              "              style=\"display:none;\">\n",
              "        \n",
              "  <svg xmlns=\"http://www.w3.org/2000/svg\" height=\"24px\"viewBox=\"0 0 24 24\"\n",
              "       width=\"24px\">\n",
              "    <path d=\"M0 0h24v24H0V0z\" fill=\"none\"/>\n",
              "    <path d=\"M18.56 5.44l.94 2.06.94-2.06 2.06-.94-2.06-.94-.94-2.06-.94 2.06-2.06.94zm-11 1L8.5 8.5l.94-2.06 2.06-.94-2.06-.94L8.5 2.5l-.94 2.06-2.06.94zm10 10l.94 2.06.94-2.06 2.06-.94-2.06-.94-.94-2.06-.94 2.06-2.06.94z\"/><path d=\"M17.41 7.96l-1.37-1.37c-.4-.4-.92-.59-1.43-.59-.52 0-1.04.2-1.43.59L10.3 9.45l-7.72 7.72c-.78.78-.78 2.05 0 2.83L4 21.41c.39.39.9.59 1.41.59.51 0 1.02-.2 1.41-.59l7.78-7.78 2.81-2.81c.8-.78.8-2.07 0-2.86zM5.41 20L4 18.59l7.72-7.72 1.47 1.35L5.41 20z\"/>\n",
              "  </svg>\n",
              "      </button>\n",
              "      \n",
              "  <style>\n",
              "    .colab-df-container {\n",
              "      display:flex;\n",
              "      flex-wrap:wrap;\n",
              "      gap: 12px;\n",
              "    }\n",
              "\n",
              "    .colab-df-convert {\n",
              "      background-color: #E8F0FE;\n",
              "      border: none;\n",
              "      border-radius: 50%;\n",
              "      cursor: pointer;\n",
              "      display: none;\n",
              "      fill: #1967D2;\n",
              "      height: 32px;\n",
              "      padding: 0 0 0 0;\n",
              "      width: 32px;\n",
              "    }\n",
              "\n",
              "    .colab-df-convert:hover {\n",
              "      background-color: #E2EBFA;\n",
              "      box-shadow: 0px 1px 2px rgba(60, 64, 67, 0.3), 0px 1px 3px 1px rgba(60, 64, 67, 0.15);\n",
              "      fill: #174EA6;\n",
              "    }\n",
              "\n",
              "    [theme=dark] .colab-df-convert {\n",
              "      background-color: #3B4455;\n",
              "      fill: #D2E3FC;\n",
              "    }\n",
              "\n",
              "    [theme=dark] .colab-df-convert:hover {\n",
              "      background-color: #434B5C;\n",
              "      box-shadow: 0px 1px 3px 1px rgba(0, 0, 0, 0.15);\n",
              "      filter: drop-shadow(0px 1px 2px rgba(0, 0, 0, 0.3));\n",
              "      fill: #FFFFFF;\n",
              "    }\n",
              "  </style>\n",
              "\n",
              "      <script>\n",
              "        const buttonEl =\n",
              "          document.querySelector('#df-ae247cbe-85b1-4d9e-99a8-d6d54f305541 button.colab-df-convert');\n",
              "        buttonEl.style.display =\n",
              "          google.colab.kernel.accessAllowed ? 'block' : 'none';\n",
              "\n",
              "        async function convertToInteractive(key) {\n",
              "          const element = document.querySelector('#df-ae247cbe-85b1-4d9e-99a8-d6d54f305541');\n",
              "          const dataTable =\n",
              "            await google.colab.kernel.invokeFunction('convertToInteractive',\n",
              "                                                     [key], {});\n",
              "          if (!dataTable) return;\n",
              "\n",
              "          const docLinkHtml = 'Like what you see? Visit the ' +\n",
              "            '<a target=\"_blank\" href=https://colab.research.google.com/notebooks/data_table.ipynb>data table notebook</a>'\n",
              "            + ' to learn more about interactive tables.';\n",
              "          element.innerHTML = '';\n",
              "          dataTable['output_type'] = 'display_data';\n",
              "          await google.colab.output.renderOutput(dataTable, element);\n",
              "          const docLink = document.createElement('div');\n",
              "          docLink.innerHTML = docLinkHtml;\n",
              "          element.appendChild(docLink);\n",
              "        }\n",
              "      </script>\n",
              "    </div>\n",
              "  </div>\n",
              "  "
            ]
          },
          "metadata": {},
          "execution_count": 19
        }
      ]
    },
    {
      "cell_type": "markdown",
      "source": [
        "**Train test split**"
      ],
      "metadata": {
        "id": "MMGRgMzIJa5f"
      }
    },
    {
      "cell_type": "code",
      "source": [
        "# Shuffle dataset \n",
        "shuffle_train = train.sample(frac=1,random_state=1).reset_index(drop=True)\n",
        "\n",
        "# Define size for train set \n",
        "train_size = int(0.7 * len(train))\n",
        "\n",
        "# Split dataset \n",
        "train_set = shuffle_train[:train_size]\n",
        "test_set = shuffle_train[train_size:]"
      ],
      "metadata": {
        "id": "XLPqpEDkJdPi"
      },
      "execution_count": 20,
      "outputs": []
    },
    {
      "cell_type": "code",
      "source": [
        "train_set.head()"
      ],
      "metadata": {
        "colab": {
          "base_uri": "https://localhost:8080/",
          "height": 299
        },
        "id": "Owl42VsxKHea",
        "outputId": "c76e331a-a9e1-4507-86a1-ce0db1d95d65"
      },
      "execution_count": 21,
      "outputs": [
        {
          "output_type": "execute_result",
          "data": {
            "text/plain": [
              "   policy_tenure  age_of_car  age_of_policyholder  population_density  make  \\\n",
              "0       0.429286        0.06             0.365385                6112     1   \n",
              "1       1.208874        0.10             0.423077                4076     2   \n",
              "2       0.518087        0.11             0.298077               34738     1   \n",
              "3       0.700774        0.14             0.442308                7788     1   \n",
              "4       0.893027        0.07             0.461538                8794     3   \n",
              "\n",
              "   airbags  displacement  cylinder  transmission_type  gear_box  ...  \\\n",
              "0        2          1197         4                  0         5  ...   \n",
              "1        2           999         3                  1         5  ...   \n",
              "2        2          1197         4                  0         5  ...   \n",
              "3        2           998         3                  0         5  ...   \n",
              "4        6          1493         4                  1         6  ...   \n",
              "\n",
              "   is_rear_window_washer_Yes  is_rear_window_defogger_Yes  \\\n",
              "0                          0                            0   \n",
              "1                          0                            0   \n",
              "2                          0                            0   \n",
              "3                          0                            0   \n",
              "4                          1                            1   \n",
              "\n",
              "   is_brake_assist_Yes  is_power_door_locks_Yes  is_central_locking_Yes  \\\n",
              "0                    1                        1                       1   \n",
              "1                    0                        1                       1   \n",
              "2                    1                        1                       1   \n",
              "3                    0                        1                       1   \n",
              "4                    1                        1                       1   \n",
              "\n",
              "   is_power_steering_Yes  is_driver_seat_height_adjustable_Yes  \\\n",
              "0                      1                                     1   \n",
              "1                      1                                     0   \n",
              "2                      1                                     1   \n",
              "3                      1                                     0   \n",
              "4                      1                                     1   \n",
              "\n",
              "   is_day_night_rear_view_mirror_Yes  is_ecw_Yes  is_speed_alert_Yes  \n",
              "0                                  1           1                   1  \n",
              "1                                  1           1                   1  \n",
              "2                                  1           1                   1  \n",
              "3                                  0           1                   1  \n",
              "4                                  0           1                   1  \n",
              "\n",
              "[5 rows x 88 columns]"
            ],
            "text/html": [
              "\n",
              "  <div id=\"df-5bf5f904-e384-47c5-a7d7-823f28e01142\">\n",
              "    <div class=\"colab-df-container\">\n",
              "      <div>\n",
              "<style scoped>\n",
              "    .dataframe tbody tr th:only-of-type {\n",
              "        vertical-align: middle;\n",
              "    }\n",
              "\n",
              "    .dataframe tbody tr th {\n",
              "        vertical-align: top;\n",
              "    }\n",
              "\n",
              "    .dataframe thead th {\n",
              "        text-align: right;\n",
              "    }\n",
              "</style>\n",
              "<table border=\"1\" class=\"dataframe\">\n",
              "  <thead>\n",
              "    <tr style=\"text-align: right;\">\n",
              "      <th></th>\n",
              "      <th>policy_tenure</th>\n",
              "      <th>age_of_car</th>\n",
              "      <th>age_of_policyholder</th>\n",
              "      <th>population_density</th>\n",
              "      <th>make</th>\n",
              "      <th>airbags</th>\n",
              "      <th>displacement</th>\n",
              "      <th>cylinder</th>\n",
              "      <th>transmission_type</th>\n",
              "      <th>gear_box</th>\n",
              "      <th>...</th>\n",
              "      <th>is_rear_window_washer_Yes</th>\n",
              "      <th>is_rear_window_defogger_Yes</th>\n",
              "      <th>is_brake_assist_Yes</th>\n",
              "      <th>is_power_door_locks_Yes</th>\n",
              "      <th>is_central_locking_Yes</th>\n",
              "      <th>is_power_steering_Yes</th>\n",
              "      <th>is_driver_seat_height_adjustable_Yes</th>\n",
              "      <th>is_day_night_rear_view_mirror_Yes</th>\n",
              "      <th>is_ecw_Yes</th>\n",
              "      <th>is_speed_alert_Yes</th>\n",
              "    </tr>\n",
              "  </thead>\n",
              "  <tbody>\n",
              "    <tr>\n",
              "      <th>0</th>\n",
              "      <td>0.429286</td>\n",
              "      <td>0.06</td>\n",
              "      <td>0.365385</td>\n",
              "      <td>6112</td>\n",
              "      <td>1</td>\n",
              "      <td>2</td>\n",
              "      <td>1197</td>\n",
              "      <td>4</td>\n",
              "      <td>0</td>\n",
              "      <td>5</td>\n",
              "      <td>...</td>\n",
              "      <td>0</td>\n",
              "      <td>0</td>\n",
              "      <td>1</td>\n",
              "      <td>1</td>\n",
              "      <td>1</td>\n",
              "      <td>1</td>\n",
              "      <td>1</td>\n",
              "      <td>1</td>\n",
              "      <td>1</td>\n",
              "      <td>1</td>\n",
              "    </tr>\n",
              "    <tr>\n",
              "      <th>1</th>\n",
              "      <td>1.208874</td>\n",
              "      <td>0.10</td>\n",
              "      <td>0.423077</td>\n",
              "      <td>4076</td>\n",
              "      <td>2</td>\n",
              "      <td>2</td>\n",
              "      <td>999</td>\n",
              "      <td>3</td>\n",
              "      <td>1</td>\n",
              "      <td>5</td>\n",
              "      <td>...</td>\n",
              "      <td>0</td>\n",
              "      <td>0</td>\n",
              "      <td>0</td>\n",
              "      <td>1</td>\n",
              "      <td>1</td>\n",
              "      <td>1</td>\n",
              "      <td>0</td>\n",
              "      <td>1</td>\n",
              "      <td>1</td>\n",
              "      <td>1</td>\n",
              "    </tr>\n",
              "    <tr>\n",
              "      <th>2</th>\n",
              "      <td>0.518087</td>\n",
              "      <td>0.11</td>\n",
              "      <td>0.298077</td>\n",
              "      <td>34738</td>\n",
              "      <td>1</td>\n",
              "      <td>2</td>\n",
              "      <td>1197</td>\n",
              "      <td>4</td>\n",
              "      <td>0</td>\n",
              "      <td>5</td>\n",
              "      <td>...</td>\n",
              "      <td>0</td>\n",
              "      <td>0</td>\n",
              "      <td>1</td>\n",
              "      <td>1</td>\n",
              "      <td>1</td>\n",
              "      <td>1</td>\n",
              "      <td>1</td>\n",
              "      <td>1</td>\n",
              "      <td>1</td>\n",
              "      <td>1</td>\n",
              "    </tr>\n",
              "    <tr>\n",
              "      <th>3</th>\n",
              "      <td>0.700774</td>\n",
              "      <td>0.14</td>\n",
              "      <td>0.442308</td>\n",
              "      <td>7788</td>\n",
              "      <td>1</td>\n",
              "      <td>2</td>\n",
              "      <td>998</td>\n",
              "      <td>3</td>\n",
              "      <td>0</td>\n",
              "      <td>5</td>\n",
              "      <td>...</td>\n",
              "      <td>0</td>\n",
              "      <td>0</td>\n",
              "      <td>0</td>\n",
              "      <td>1</td>\n",
              "      <td>1</td>\n",
              "      <td>1</td>\n",
              "      <td>0</td>\n",
              "      <td>0</td>\n",
              "      <td>1</td>\n",
              "      <td>1</td>\n",
              "    </tr>\n",
              "    <tr>\n",
              "      <th>4</th>\n",
              "      <td>0.893027</td>\n",
              "      <td>0.07</td>\n",
              "      <td>0.461538</td>\n",
              "      <td>8794</td>\n",
              "      <td>3</td>\n",
              "      <td>6</td>\n",
              "      <td>1493</td>\n",
              "      <td>4</td>\n",
              "      <td>1</td>\n",
              "      <td>6</td>\n",
              "      <td>...</td>\n",
              "      <td>1</td>\n",
              "      <td>1</td>\n",
              "      <td>1</td>\n",
              "      <td>1</td>\n",
              "      <td>1</td>\n",
              "      <td>1</td>\n",
              "      <td>1</td>\n",
              "      <td>0</td>\n",
              "      <td>1</td>\n",
              "      <td>1</td>\n",
              "    </tr>\n",
              "  </tbody>\n",
              "</table>\n",
              "<p>5 rows × 88 columns</p>\n",
              "</div>\n",
              "      <button class=\"colab-df-convert\" onclick=\"convertToInteractive('df-5bf5f904-e384-47c5-a7d7-823f28e01142')\"\n",
              "              title=\"Convert this dataframe to an interactive table.\"\n",
              "              style=\"display:none;\">\n",
              "        \n",
              "  <svg xmlns=\"http://www.w3.org/2000/svg\" height=\"24px\"viewBox=\"0 0 24 24\"\n",
              "       width=\"24px\">\n",
              "    <path d=\"M0 0h24v24H0V0z\" fill=\"none\"/>\n",
              "    <path d=\"M18.56 5.44l.94 2.06.94-2.06 2.06-.94-2.06-.94-.94-2.06-.94 2.06-2.06.94zm-11 1L8.5 8.5l.94-2.06 2.06-.94-2.06-.94L8.5 2.5l-.94 2.06-2.06.94zm10 10l.94 2.06.94-2.06 2.06-.94-2.06-.94-.94-2.06-.94 2.06-2.06.94z\"/><path d=\"M17.41 7.96l-1.37-1.37c-.4-.4-.92-.59-1.43-.59-.52 0-1.04.2-1.43.59L10.3 9.45l-7.72 7.72c-.78.78-.78 2.05 0 2.83L4 21.41c.39.39.9.59 1.41.59.51 0 1.02-.2 1.41-.59l7.78-7.78 2.81-2.81c.8-.78.8-2.07 0-2.86zM5.41 20L4 18.59l7.72-7.72 1.47 1.35L5.41 20z\"/>\n",
              "  </svg>\n",
              "      </button>\n",
              "      \n",
              "  <style>\n",
              "    .colab-df-container {\n",
              "      display:flex;\n",
              "      flex-wrap:wrap;\n",
              "      gap: 12px;\n",
              "    }\n",
              "\n",
              "    .colab-df-convert {\n",
              "      background-color: #E8F0FE;\n",
              "      border: none;\n",
              "      border-radius: 50%;\n",
              "      cursor: pointer;\n",
              "      display: none;\n",
              "      fill: #1967D2;\n",
              "      height: 32px;\n",
              "      padding: 0 0 0 0;\n",
              "      width: 32px;\n",
              "    }\n",
              "\n",
              "    .colab-df-convert:hover {\n",
              "      background-color: #E2EBFA;\n",
              "      box-shadow: 0px 1px 2px rgba(60, 64, 67, 0.3), 0px 1px 3px 1px rgba(60, 64, 67, 0.15);\n",
              "      fill: #174EA6;\n",
              "    }\n",
              "\n",
              "    [theme=dark] .colab-df-convert {\n",
              "      background-color: #3B4455;\n",
              "      fill: #D2E3FC;\n",
              "    }\n",
              "\n",
              "    [theme=dark] .colab-df-convert:hover {\n",
              "      background-color: #434B5C;\n",
              "      box-shadow: 0px 1px 3px 1px rgba(0, 0, 0, 0.15);\n",
              "      filter: drop-shadow(0px 1px 2px rgba(0, 0, 0, 0.3));\n",
              "      fill: #FFFFFF;\n",
              "    }\n",
              "  </style>\n",
              "\n",
              "      <script>\n",
              "        const buttonEl =\n",
              "          document.querySelector('#df-5bf5f904-e384-47c5-a7d7-823f28e01142 button.colab-df-convert');\n",
              "        buttonEl.style.display =\n",
              "          google.colab.kernel.accessAllowed ? 'block' : 'none';\n",
              "\n",
              "        async function convertToInteractive(key) {\n",
              "          const element = document.querySelector('#df-5bf5f904-e384-47c5-a7d7-823f28e01142');\n",
              "          const dataTable =\n",
              "            await google.colab.kernel.invokeFunction('convertToInteractive',\n",
              "                                                     [key], {});\n",
              "          if (!dataTable) return;\n",
              "\n",
              "          const docLinkHtml = 'Like what you see? Visit the ' +\n",
              "            '<a target=\"_blank\" href=https://colab.research.google.com/notebooks/data_table.ipynb>data table notebook</a>'\n",
              "            + ' to learn more about interactive tables.';\n",
              "          element.innerHTML = '';\n",
              "          dataTable['output_type'] = 'display_data';\n",
              "          await google.colab.output.renderOutput(dataTable, element);\n",
              "          const docLink = document.createElement('div');\n",
              "          docLink.innerHTML = docLinkHtml;\n",
              "          element.appendChild(docLink);\n",
              "        }\n",
              "      </script>\n",
              "    </div>\n",
              "  </div>\n",
              "  "
            ]
          },
          "metadata": {},
          "execution_count": 21
        }
      ]
    },
    {
      "cell_type": "code",
      "source": [
        "train_set.shape,test_set.shape"
      ],
      "metadata": {
        "colab": {
          "base_uri": "https://localhost:8080/"
        },
        "id": "-iA6qCgiK2A-",
        "outputId": "050436e6-19e0-474a-c354-f7e43a26b74f"
      },
      "execution_count": 22,
      "outputs": [
        {
          "output_type": "execute_result",
          "data": {
            "text/plain": [
              "((41014, 88), (17578, 88))"
            ]
          },
          "metadata": {},
          "execution_count": 22
        }
      ]
    },
    {
      "cell_type": "markdown",
      "source": [
        "**Declare feature vector and target variable**"
      ],
      "metadata": {
        "id": "Y5DYb9DmI_J1"
      }
    },
    {
      "cell_type": "code",
      "source": [
        "X = train_set.drop(['is_claim'], axis=1)\n",
        "y = train_set['is_claim']\n",
        "X_test_init = test_set.copy()\n",
        "X_test = X_test_init.drop(['is_claim'], axis=1)\n",
        "y_test = X_test_init['is_claim']"
      ],
      "metadata": {
        "id": "i8cQTZhlJAdE"
      },
      "execution_count": 23,
      "outputs": []
    },
    {
      "cell_type": "markdown",
      "source": [
        "**Use SMOTE to handle imbalanced data**"
      ],
      "metadata": {
        "id": "ZR5CirDuNX3m"
      }
    },
    {
      "cell_type": "code",
      "source": [
        "from imblearn.over_sampling import SMOTE"
      ],
      "metadata": {
        "id": "8Z1GrWAENZpn"
      },
      "execution_count": 24,
      "outputs": []
    },
    {
      "cell_type": "code",
      "source": [
        "balance = SMOTE(random_state=7, sampling_strategy=0.8)\n",
        "X_train, y_train = balance.fit_resample(X,y)\n",
        "print('Original training dataset shape :\\n{}'.format(y.value_counts()))\n",
        "print('Resampled training dataset shape :\\n{}'.format(y_train.value_counts()))\n",
        "sns.barplot(x = [0, 1], y = [38411, 30728])"
      ],
      "metadata": {
        "colab": {
          "base_uri": "https://localhost:8080/",
          "height": 424
        },
        "id": "t--1nW5ms59v",
        "outputId": "53f67115-67e8-4be6-e9ef-3db02003975a"
      },
      "execution_count": 25,
      "outputs": [
        {
          "output_type": "stream",
          "name": "stdout",
          "text": [
            "Original training dataset shape :\n",
            "0    38411\n",
            "1     2603\n",
            "Name: is_claim, dtype: int64\n",
            "Resampled training dataset shape :\n",
            "0    38411\n",
            "1    30728\n",
            "Name: is_claim, dtype: int64\n"
          ]
        },
        {
          "output_type": "execute_result",
          "data": {
            "text/plain": [
              "<matplotlib.axes._subplots.AxesSubplot at 0x7f63d48ca940>"
            ]
          },
          "metadata": {},
          "execution_count": 25
        },
        {
          "output_type": "display_data",
          "data": {
            "text/plain": [
              "<Figure size 432x288 with 1 Axes>"
            ],
            "image/png": "[encoded data removed]"
          },
          "metadata": {
            "needs_background": "light"
          }
        }
      ]
    },
    {
      "cell_type": "markdown",
      "source": [
        "# Naïve Bayer classifier"
      ],
      "metadata": {
        "id": "yLlU5tRB24RG"
      }
    },
    {
      "cell_type": "markdown",
      "source": [
        "**Model training**"
      ],
      "metadata": {
        "id": "9Sx_Cuhv3bjU"
      }
    },
    {
      "cell_type": "code",
      "source": [
        "import math\n",
        "class Gaussian_Bayes():\n",
        "  def __init__(self):\n",
        "    pass\n",
        "  # Build the model\n",
        "  def fit(self,X_train,y_train):\n",
        "    self.training_data = X_train.copy()\n",
        "    self.gb_y_train = pd.DataFrame(y_train.values, columns = ['claim'])\n",
        "    self.training_data['claim'] = y_train.values\n",
        "    self.find_mean = self.training_data.groupby(\"claim\").mean() # Mean for gaussian\n",
        "    self.find_var = self.training_data.groupby(\"claim\").var() # Variance for gaussian\n",
        "    self.prior_prob = self.Prior()\n",
        "    return self\n",
        "  \n",
        "  # Prior probability\n",
        "  def Prior(self):\n",
        "    label = self.gb_y_train['claim'].value_counts().sort_index()\n",
        "    pri = []\n",
        "    for c in label :\n",
        "      pri.append(c/sum(label))\n",
        "    prior_prob = np.array(pri)\n",
        "    return prior_prob\n",
        "    \n",
        "  # Calculate with gaussian distribution\n",
        "  def Distribution(self,mu,variance,feature):\n",
        "    norm = 1/np.sqrt(2*math.pi*variance)*np.exp(-(feature-mu)**2/(2*variance)) # Normal distribution\n",
        "    norm = pd.DataFrame(norm).prod(axis=1) # P(x1,x2,...,xn|yi)\n",
        "    return norm\n",
        "\n",
        "  # Prediction\n",
        "  def Predict(self,X_test):\n",
        "    final_prob = []\n",
        "    for feature in X_test.values :\n",
        "      prob=self.Distribution(self.find_mean,self.find_var,feature)*self.prior_prob\n",
        "      final_prob.append(prob)\n",
        "    result=np.argmax(final_prob, axis=1)  # argmax for prediction\n",
        "    return result"
      ],
      "metadata": {
        "id": "x3j5GSeo1fOY"
      },
      "execution_count": 26,
      "outputs": []
    },
    {
      "cell_type": "code",
      "source": [
        "nb = Gaussian_Bayes()"
      ],
      "metadata": {
        "id": "Fyug0gWUWdmY"
      },
      "execution_count": 27,
      "outputs": []
    },
    {
      "cell_type": "code",
      "source": [
        "nb.fit(X_train,y_train)\n",
        "# Test set prediction\n",
        "y_test_nb = nb.Predict(X_test)\n",
        "# Train set prediction\n",
        "y_train_nb = nb.Predict(X_train)"
      ],
      "metadata": {
        "id": "s9fti-xHqH4J"
      },
      "execution_count": null,
      "outputs": []
    },
    {
      "cell_type": "markdown",
      "source": [
        "**Check accuracy score**"
      ],
      "metadata": {
        "id": "fe2cSXZyaJIz"
      }
    },
    {
      "cell_type": "code",
      "source": [
        "from sklearn.metrics import accuracy_score"
      ],
      "metadata": {
        "id": "3nUjvjlWaLfo"
      },
      "execution_count": null,
      "outputs": []
    },
    {
      "cell_type": "code",
      "source": [
        "# Train set accuracy\n",
        "train_accuracy_nb = accuracy_score(y_train,y_train_nb)\n",
        "# Test set accuracy\n",
        "test_accuracy_nb = accuracy_score(y_test,y_test_nb)\n",
        "\n",
        "print('Test set accuracy : {0:0.4f}'. format(test_accuracy_nb))\n",
        "print('Train set accuracy : {0:0.4f}'. format(train_accuracy_nb))"
      ],
      "metadata": {
        "id": "9-SzwEsefJsC"
      },
      "execution_count": null,
      "outputs": []
    },
    {
      "cell_type": "code",
      "source": [
        "#Print the Confusion Matrix and slice it into four pieces\n",
        "from sklearn.metrics import confusion_matrix\n",
        "cm_nb = confusion_matrix(y_test, y_test_nb)\n",
        "# Visualize confusion matrix \n",
        "confusion_matrix_nb = pd.DataFrame(data=cm_nb, columns=['Actual Positive:1', 'Actual Negative:0'], index=['Predict Positive:1', 'Predict Negative:0'])\n",
        "sns.heatmap(confusion_matrix_nb, annot=True, fmt='d', cmap='YlGnBu')"
      ],
      "metadata": {
        "id": "Kb2MxEHUnR6B"
      },
      "execution_count": null,
      "outputs": []
    },
    {
      "cell_type": "markdown",
      "source": [
        "# Random Forest Classifier"
      ],
      "metadata": {
        "id": "UNczXK34svkm"
      }
    },
    {
      "cell_type": "markdown",
      "source": [
        "Record the information of each node"
      ],
      "metadata": {
        "id": "g4RlzKpEyy4Y"
      }
    },
    {
      "cell_type": "code",
      "source": [
        "class Node:\n",
        "    def __init__(self, feature=None, threshold=None, data_left=None, data_right=None, value=None):\n",
        "        self.feature = feature\n",
        "        self.threshold = threshold\n",
        "        self.data_left = data_left\n",
        "        self.data_right = data_right\n",
        "        self.gain = gain\n",
        "        self.value = value"
      ],
      "metadata": {
        "id": "-7vY9ieUtsXr"
      },
      "execution_count": null,
      "outputs": []
    },
    {
      "cell_type": "markdown",
      "source": [
        "**DecisionTree**"
      ],
      "metadata": {
        "id": "fxTs8KfIYHuG"
      }
    },
    {
      "cell_type": "code",
      "source": [
        "class DecisionTree:\n",
        "    def __init__(self, min_samples_split=25, max_depth=5):\n",
        "        self.min_samples_split = min_samples_split\n",
        "        self.max_depth = max_depth\n",
        "        self.root = None\n",
        "\n",
        "    # Calculate entropy   \n",
        "    @staticmethod\n",
        "    def entropy(s):\n",
        "        counts = np.bincount(np.array(s, dtype=np.int64))\n",
        "        # Probabilities of each class label\n",
        "        percentages = counts / len(s)\n",
        "        # Caclulate entropy\n",
        "        entropy = 0\n",
        "        for pct in percentages:\n",
        "            if pct > 0:\n",
        "                entropy += pct * np.log2(pct)\n",
        "        return -entropy\n",
        "    \n",
        "    # Calculate information gain\n",
        "    def information_gain(self, parent, left_child, right_child):\n",
        "        num_left = len(left_child) / len(parent)\n",
        "        num_right = len(right_child) / len(parent)\n",
        "        \n",
        "        info_gain = self.entropy(parent) - (num_left * self.entropy(left_child) + num_right * self.entropy(right_child))\n",
        "        return info_gain\n",
        "    # Calculate the best split\n",
        "    def best_split(self, X, y):\n",
        "        best_split = {}\n",
        "        best_info_gain = -1\n",
        "        n_rows, n_cols = X.shape\n",
        "        \n",
        "        for f_idx in range(n_cols):\n",
        "            X_curr = X[:, f_idx]\n",
        "            for threshold in np.unique(X_curr):\n",
        "                # Construct a dataset and split it to the left and right parts\n",
        "                df = np.concatenate((X, y.reshape(1, -1).T), axis=1)\n",
        "                df_left = np.array([row for row in df if row[f_idx] <= threshold])\n",
        "                df_right = np.array([row for row in df if row[f_idx] > threshold])\n",
        "\n",
        "                if len(df_left) > 0 and len(df_right) > 0:\n",
        "                    y = df[:, -1]\n",
        "                    y_left = df_left[:, -1]\n",
        "                    y_right = df_right[:, -1]\n",
        "\n",
        "                    # Caclulate the information gain and save the split parameters\n",
        "                    gain = self.information_gain(y, y_left, y_right)\n",
        "                    if gain > best_info_gain:\n",
        "                        best_split = {\n",
        "                            'feature_index': f_idx,\n",
        "                            'threshold': threshold,\n",
        "                            'df_left': df_left,\n",
        "                            'df_right': df_right,\n",
        "                            'gain': gain\n",
        "                        }\n",
        "                        best_info_gain = gain\n",
        "        return best_split\n",
        "    \n",
        "    # Build decision tree\n",
        "    def build(self, X, y, depth=0):\n",
        "        n_rows, n_cols = X.shape\n",
        "        \n",
        "        # Check to see if a node should be leaf node\n",
        "        if n_rows >= self.min_samples_split and depth <= self.max_depth:\n",
        "            # Get the best split\n",
        "            best = self.best_split(X, y)\n",
        "            # If the split isn't pure\n",
        "            if best['gain'] > 0:\n",
        "                # Build a tree on the left\n",
        "                left = self.build(\n",
        "                    X=best['df_left'][:, :-1], \n",
        "                    y=best['df_left'][:, -1], \n",
        "                    depth=depth + 1\n",
        "                )\n",
        "                right = self.build(\n",
        "                    X=best['df_right'][:, :-1], \n",
        "                    y=best['df_right'][:, -1], \n",
        "                    depth=depth + 1\n",
        "                )\n",
        "                return Node(\n",
        "                    feature=best['feature_index'], \n",
        "                    threshold=best['threshold'], \n",
        "                    data_left=left, \n",
        "                    data_right=right, \n",
        "                )\n",
        "        # Leaf node: value is the most common target value \n",
        "        return Node(value=Counter(y).most_common(1)[0][0])\n",
        "            \n",
        "    # Train model\n",
        "    def fit(self, X, y):\n",
        "        self.root = self.build(X, y)\n",
        "\n",
        "    # Predict one raw of X    \n",
        "    def pre_predict(self, x, tree):\n",
        "        # Leaf node\n",
        "        if tree.value != None:\n",
        "            return tree.value\n",
        "        feature_value = x[tree.feature]\n",
        "        \n",
        "        # Go to the left\n",
        "        if feature_value <= tree.threshold:\n",
        "            return self.pre_predict(x=x, tree=tree.data_left)\n",
        "        \n",
        "        # Go to the right\n",
        "        if feature_value > tree.threshold:\n",
        "            return self.pre_predict(x=x, tree=tree.data_right)\n",
        "        \n",
        "    def predict(self, X):\n",
        "        # Call the pre_predict() function for whole X\n",
        "        return [self.pre_predict(x, self.root) for x in X]"
      ],
      "metadata": {
        "id": "XtwHXSZeSubb"
      },
      "execution_count": null,
      "outputs": []
    },
    {
      "cell_type": "code",
      "source": [
        "class RandomForest:\n",
        "    def __init__(self, num_trees=5, min_samples_split=25, max_depth=5):\n",
        "        self.num_trees = num_trees\n",
        "        self.min_samples_split = min_samples_split\n",
        "        self.max_depth = max_depth\n",
        "        # Trained decision trees\n",
        "        self.decision_trees = []\n",
        "\n",
        "    # Boostrap    \n",
        "    @staticmethod\n",
        "    def _sample(X, y):\n",
        "        n_rows, n_cols = X.shape\n",
        "        samples = np.random.choice(a=n_rows, size=n_rows, replace=True)\n",
        "        return X[samples], y[samples]\n",
        "\n",
        "    # Train model    \n",
        "    def fit(self, X, y):\n",
        "        # Reset decision tree model\n",
        "        if len(self.decision_trees) > 0:\n",
        "            self.decision_trees = []\n",
        "            \n",
        "        # Build each tree \n",
        "        num_built = 0\n",
        "        while num_built < self.num_trees:\n",
        "            try:\n",
        "                clf = DecisionTree(\n",
        "                    min_samples_split=self.min_samples_split,\n",
        "                    max_depth=self.max_depth\n",
        "                )\n",
        "                _X, _y = self._sample(X, y)\n",
        "                # Train\n",
        "                clf.fit(_X, _y)\n",
        "                # Save the classifier\n",
        "                self.decision_trees.append(clf)\n",
        "                num_built += 1\n",
        "            except Exception as e:\n",
        "                continue\n",
        "    \n",
        "    def predict(self, X):\n",
        "        # Make predictions with every tree in the forest\n",
        "        y = []\n",
        "        for tree in self.decision_trees:\n",
        "            y.append(tree.predict(X))\n",
        "        \n",
        "        y = np.swapaxes(a=y, axis1=0, axis2=1)\n",
        "        \n",
        "        # Majority voting \n",
        "        predictions = []\n",
        "        for preds in y:\n",
        "            counter = Counter(x)\n",
        "            predictions.append(counter.most_common(1)[0][0])\n",
        "        return predictions"
      ],
      "metadata": {
        "id": "vAYGUHOMXJ-z"
      },
      "execution_count": null,
      "outputs": []
    },
    {
      "cell_type": "markdown",
      "source": [
        "**Test**"
      ],
      "metadata": {
        "id": "jD7427XQeMXh"
      }
    },
    {
      "cell_type": "code",
      "source": [
        "# Model training\n",
        "rfc_scratch = RandomForest()\n",
        "rfc_scratch.fit(X_train, y_train)\n",
        "# Test set prediction\n",
        "y_test_rfc_scratch = rfc_scratch.predict(X_test)\n",
        "# Train set prediction\n",
        "y_train_rfc_scratch = rfc_scratch.predict(X_train)"
      ],
      "metadata": {
        "id": "cKW6unKgeQZO"
      },
      "execution_count": null,
      "outputs": []
    },
    {
      "cell_type": "code",
      "source": [
        "# Train set accuracy\n",
        "train_accuracy_rfc_scratch = accuracy_score(y_train,y_train_rfc_scratch)\n",
        "# Test set accuracy\n",
        "test_accuracy_rfc_scratch = accuracy_score(y_test,y_test_rfc_scratch)\n",
        "\n",
        "print('Test set accuracy : {0:0.4f}'. format(test_accuracy_rfc_scratch))\n",
        "print('Train set accuracy : {0:0.4f}'. format(train_accuracy_rfc_scratch))"
      ],
      "metadata": {
        "id": "aOQpSA6K7v0v"
      },
      "execution_count": null,
      "outputs": []
    },
    {
      "cell_type": "markdown",
      "source": [
        "# Random Forest Classifier (sklearn)"
      ],
      "metadata": {
        "id": "xSyGBWUZTmTz"
      }
    },
    {
      "cell_type": "code",
      "source": [
        "from sklearn.ensemble import RandomForestClassifier"
      ],
      "metadata": {
        "id": "RCTlVIjdTmxB"
      },
      "execution_count": null,
      "outputs": []
    },
    {
      "cell_type": "code",
      "source": [
        "rfc = RandomForestClassifier(n_estimators=100,\n",
        "              criterion='gini',max_depth=10,max_features='log2',\n",
        "              min_samples_leaf=3,min_samples_split=10,random_state=17)                      "
      ],
      "metadata": {
        "id": "xTLk7iqJUkTw"
      },
      "execution_count": null,
      "outputs": []
    },
    {
      "cell_type": "code",
      "source": [
        "# Model training\n",
        "rfc.fit(X_train,y_train)\n",
        "# Test set prediction\n",
        "y_test_rfc = rfc.predict(X_test)\n",
        "# Train set prediction\n",
        "y_train_rfc = rfc.predict(X_train)"
      ],
      "metadata": {
        "id": "pPxpRRvNVKag"
      },
      "execution_count": null,
      "outputs": []
    },
    {
      "cell_type": "code",
      "source": [
        "# Train set accuracy\n",
        "train_accuracy_rfc = accuracy_score(y_train,y_train_rfc)\n",
        "# Test set accuracy\n",
        "test_accuracy_rfc = accuracy_score(y_test,y_test_rfc)\n",
        "\n",
        "print('Test set accuracy : {0:0.4f}'. format(test_accuracy_rfc))\n",
        "print('Train set accuracy : {0:0.4f}'. format(train_accuracy_rfc))"
      ],
      "metadata": {
        "id": "xtWoA2zzb1qx"
      },
      "execution_count": null,
      "outputs": []
    },
    {
      "cell_type": "code",
      "source": [
        "# Visualize confusion matrix \n",
        "cm_rfc = confusion_matrix(y_test, y_test_rfc)\n",
        "confusion_matrix_rfc = pd.DataFrame(data=cm_rfc, columns=['Actual Positive:1', 'Actual Negative:0'], index=['Predict Positive:1', 'Predict Negative:0'])\n",
        "sns.heatmap(confusion_matrix_rfc, annot=True, fmt='d', cmap='YlGnBu')"
      ],
      "metadata": {
        "id": "Z7sVRuqxANwz"
      },
      "execution_count": null,
      "outputs": []
    },
    {
      "cell_type": "markdown",
      "source": [
        "# XGBoost"
      ],
      "metadata": {
        "id": "A0GLuzukr52u"
      }
    },
    {
      "cell_type": "code",
      "source": [
        "from xgboost import XGBClassifier"
      ],
      "metadata": {
        "id": "sBug1RMTr4_l"
      },
      "execution_count": null,
      "outputs": []
    },
    {
      "cell_type": "code",
      "source": [
        "xgb = XGBClassifier(n_estimators=100, learning_rate= 0.4)\n",
        "# Model training\n",
        "xgb.fit(X_train, y_train)\n",
        "# Test set prediction\n",
        "y_test_xgb = xgb.predict(X_test)\n",
        "# Train set prediction\n",
        "y_train_xgb = xgb.predict(X_train)"
      ],
      "metadata": {
        "id": "jIAwQKYUsHs4"
      },
      "execution_count": null,
      "outputs": []
    },
    {
      "cell_type": "code",
      "source": [
        "# Train set accuracy\n",
        "train_accuracy_xgb = accuracy_score(y_train,y_train_xgb)\n",
        "# Test set accuracy\n",
        "test_accuracy_xgb = accuracy_score(y_test,y_test_xgb)\n",
        "\n",
        "print('Test set accuracy : {0:0.4f}'. format(test_accuracy_xgb))\n",
        "print('Train set accuracy : {0:0.4f}'. format(train_accuracy_xgb))"
      ],
      "metadata": {
        "id": "WoyOv7SN0tie"
      },
      "execution_count": null,
      "outputs": []
    },
    {
      "cell_type": "code",
      "source": [
        "# Visualize confusion matrix \n",
        "cm_xgb = confusion_matrix(y_test, y_test_xgb)\n",
        "confusion_matrix_xgb = pd.DataFrame(data=cm_xgb, columns=['Actual Positive:1', 'Actual Negative:0'], index=['Predict Positive:1', 'Predict Negative:0'])\n",
        "sns.heatmap(confusion_matrix_xgb, annot=True, fmt='d', cmap='YlGnBu')"
      ],
      "metadata": {
        "id": "T533bg9zJ-0m"
      },
      "execution_count": null,
      "outputs": []
    },
    {
      "cell_type": "markdown",
      "source": [
        "# Catboost"
      ],
      "metadata": {
        "id": "YoYAfsgQZ9OE"
      }
    },
    {
      "cell_type": "code",
      "source": [
        "!pip install catboost\n",
        "from catboost import CatBoostClassifier"
      ],
      "metadata": {
        "id": "NM8T8adUaAdj"
      },
      "execution_count": null,
      "outputs": []
    },
    {
      "cell_type": "code",
      "source": [
        "cbc = CatBoostClassifier(iterations=100,learning_rate=0.4,verbose=0 )                  \n",
        "# Model training\n",
        "cbc.fit(X_train,y_train)\n",
        "# Test set prediction\n",
        "y_test_cbc = cbc.predict(X_test)\n",
        "# Train set prediction\n",
        "y_train_cbc = cbc.predict(X_train)"
      ],
      "metadata": {
        "id": "fYXraZ-BbROl"
      },
      "execution_count": null,
      "outputs": []
    },
    {
      "cell_type": "code",
      "source": [
        "# Train set accuracy\n",
        "train_accuracy_cbc = accuracy_score(y_train,y_train_cbc)\n",
        "# Test set accuracy\n",
        "test_accuracy_cbc = accuracy_score(y_test,y_test_cbc)\n",
        "\n",
        "print('Test set accuracy : {0:0.4f}'. format(test_accuracy_cbc))\n",
        "print('Train set accuracy : {0:0.4f}'. format(train_accuracy_cbc))"
      ],
      "metadata": {
        "id": "n4bZfFpQdohL"
      },
      "execution_count": null,
      "outputs": []
    },
    {
      "cell_type": "code",
      "source": [
        "# Visualize confusion matrix \n",
        "cm_cbc = confusion_matrix(y_test, y_test_cbc)\n",
        "confusion_matrix_cbc = pd.DataFrame(data=cm_cbc, columns=['Actual Positive:1', 'Actual Negative:0'], index=['Predict Positive:1', 'Predict Negative:0'])\n",
        "sns.heatmap(confusion_matrix_cbc, annot=True, fmt='d', cmap='YlGnBu')"
      ],
      "metadata": {
        "id": "v400s3jbeNmz"
      },
      "execution_count": null,
      "outputs": []
    },
    {
      "cell_type": "markdown",
      "source": [
        "# LightGBM"
      ],
      "metadata": {
        "id": "1FJX5I3feadW"
      }
    },
    {
      "cell_type": "code",
      "source": [
        "import lightgbm as lgb\n",
        "from lightgbm import LGBMClassifier"
      ],
      "metadata": {
        "id": "A5hD2rlAedZc"
      },
      "execution_count": null,
      "outputs": []
    },
    {
      "cell_type": "code",
      "source": [
        "lgbm = lgb.LGBMClassifier(n_estimators = 100,learning_rate = 0.4)\n",
        "# Model training\n",
        "lgbm.fit(X_train, y_train)\n",
        "# Test set prediction\n",
        "y_test_lgbm = lgbm.predict(X_test)\n",
        "# Train set prediction\n",
        "y_train_lgbm = lgbm.predict(X_train)"
      ],
      "metadata": {
        "id": "4bh0f7rBfbLa"
      },
      "execution_count": null,
      "outputs": []
    },
    {
      "cell_type": "code",
      "source": [
        "# Train set accuracy\n",
        "train_accuracy_lgbm = accuracy_score(y_train,y_train_lgbm)\n",
        "# Test set accuracy\n",
        "test_accuracy_lgbm = accuracy_score(y_test,y_test_lgbm)\n",
        "\n",
        "print('Test set accuracy : {0:0.4f}'. format(test_accuracy_lgbm))\n",
        "print('Train set accuracy : {0:0.4f}'. format(train_accuracy_lgbm))"
      ],
      "metadata": {
        "id": "L7DtadL9f7BW"
      },
      "execution_count": null,
      "outputs": []
    },
    {
      "cell_type": "code",
      "source": [
        "# Visualize confusion matrix \n",
        "cm_lgbm = confusion_matrix(y_test, y_test_lgbm)\n",
        "confusion_matrix_lgbm = pd.DataFrame(data=cm_lgbm, columns=['Actual Positive:1', 'Actual Negative:0'], index=['Predict Positive:1', 'Predict Negative:0'])\n",
        "sns.heatmap(confusion_matrix_lgbm, annot=True, fmt='d', cmap='YlGnBu')"
      ],
      "metadata": {
        "id": "rCcRSxcVgFND"
      },
      "execution_count": null,
      "outputs": []
    },
    {
      "cell_type": "markdown",
      "source": [
        "# K-Fold Cross-Validation"
      ],
      "metadata": {
        "id": "MzOGo6oSbIK7"
      }
    },
    {
      "cell_type": "code",
      "source": [
        "from sklearn.model_selection import cross_validate"
      ],
      "metadata": {
        "id": "XHMKxP3wbHVq"
      },
      "execution_count": null,
      "outputs": []
    },
    {
      "cell_type": "code",
      "source": [
        "X_cv = train.drop(['is_claim'], axis=1)\n",
        "y_cv = train['is_claim']"
      ],
      "metadata": {
        "id": "CfA4b6DbcSg_"
      },
      "execution_count": null,
      "outputs": []
    },
    {
      "cell_type": "code",
      "source": [
        "balance_cv = SMOTE(random_state=7, sampling_strategy=0.8)\n",
        "X_cvb, y_cvb = balance_cv.fit_resample(X_cv,y_cv)\n",
        "print('Resampled dataset shape :\\n{}'.format(y_cvb.value_counts()))\n",
        "sns.barplot(x = [0, 1], y = [54844, 43875])"
      ],
      "metadata": {
        "id": "IiveNTL3iH-s"
      },
      "execution_count": null,
      "outputs": []
    },
    {
      "cell_type": "code",
      "source": [
        "def cross_validation(model, cv_X, cv_y, cv_value):\n",
        "\n",
        "      score = ['accuracy']\n",
        "      results = cross_validate(estimator = model,X = cv_X, y = cv_y, cv = cv_value,\n",
        "                               scoring = score, return_train_score = True)\n",
        "      print(\"{} Fold Mean Training Accuracy : \".format(cv_value),results['train_accuracy'].mean()*100) \n",
        "      return results['train_accuracy'].mean()*100       \n",
        "    "
      ],
      "metadata": {
        "id": "-yGPeorlbLhv"
      },
      "execution_count": null,
      "outputs": []
    },
    {
      "cell_type": "markdown",
      "source": [
        "**Random forest classifier (sklearn)**"
      ],
      "metadata": {
        "id": "GEFMR7PSdhPI"
      }
    },
    {
      "cell_type": "code",
      "source": [
        "rfc_result_3 = cross_validation(rfc, X_cvb, y_cvb, 3)\n",
        "rfc_result_5 = cross_validation(rfc, X_cvb, y_cvb, 5)\n",
        "rfc_result_10 = cross_validation(rfc, X_cvb, y_cvb, 10)"
      ],
      "metadata": {
        "id": "rgI6QZa3fxSx"
      },
      "execution_count": null,
      "outputs": []
    },
    {
      "cell_type": "markdown",
      "source": [
        "**XGBoost**"
      ],
      "metadata": {
        "id": "7XZP-W2bes-5"
      }
    },
    {
      "cell_type": "code",
      "source": [
        "xgb_result_3 = cross_validation(xgb, X_cvb, y_cvb, 3)\n",
        "xgb_result_5 = cross_validation(xgb, X_cvb, y_cvb, 5)\n",
        "xgb_result_10 = cross_validation(xgb, X_cvb, y_cvb, 10)"
      ],
      "metadata": {
        "id": "OPSEUUaker2Z"
      },
      "execution_count": null,
      "outputs": []
    },
    {
      "cell_type": "markdown",
      "source": [
        "**CatBoost**"
      ],
      "metadata": {
        "id": "od-8KTBIgW44"
      }
    },
    {
      "cell_type": "code",
      "source": [
        "cbc_result_3 = cross_validation(cbc, X_cvb, y_cvb, 3)\n",
        "cbc_result_5 = cross_validation(cbc, X_cvb, y_cvb, 5)\n",
        "cbc_result_10 = cross_validation(cbc, X_cvb, y_cvb, 10)"
      ],
      "metadata": {
        "id": "Y0zlE4sNgZ7i"
      },
      "execution_count": null,
      "outputs": []
    },
    {
      "cell_type": "markdown",
      "source": [
        "**LightGBM**"
      ],
      "metadata": {
        "id": "Qt2UzW-0gnkj"
      }
    },
    {
      "cell_type": "code",
      "source": [
        "lgbm_result_3 = cross_validation(lgbm, X_cvb, y_cvb, 3)\n",
        "lgbm_result_5 = cross_validation(lgbm, X_cvb, y_cvb, 5)\n",
        "lgbm_result_10 = cross_validation(lgbm, X_cvb, y_cvb, 10)"
      ],
      "metadata": {
        "id": "k6Aiqj_ygsjf"
      },
      "execution_count": null,
      "outputs": []
    },
    {
      "cell_type": "markdown",
      "source": [
        "**Naive Bayer**"
      ],
      "metadata": {
        "id": "P63wsfDug007"
      }
    },
    {
      "cell_type": "code",
      "source": [
        "from sklearn.model_selection import KFold, cross_val_score"
      ],
      "metadata": {
        "id": "CdzVHZ60IzdN"
      },
      "execution_count": null,
      "outputs": []
    },
    {
      "cell_type": "code",
      "source": [
        "def NB_Kfold(k):\n",
        "  kf_nb = KFold(n_splits=k)\n",
        "  acc_score = []\n",
        "  for train_index, test_index in kf_nb.split(X_cvb):\n",
        "    X_train_nb_kv, X_test_nb_kv = X_cvb.iloc[train_index,:], X_cvb.iloc[test_index,:]\n",
        "    y_train_nb_kv, y_test_nb_kv = y_cvb[train_index], y_cvb[test_index]\n",
        "\n",
        "    nb.fit(X_train_nb_kv,y_train_nb_kv)\n",
        "    nb_kv_pred = nb.Predict(X_test_nb_kv)\n",
        "\n",
        "    acc_kv = accuracy_score(y_test_nb_kv,nb_kv_pred)\n",
        "    acc_score.append(acc_kv)\n",
        "      \n",
        "  avg_acc_score = sum(acc_score)/k*100\n",
        "  print(\"{} Fold Mean Training Accuracy : \".format(k),avg_acc_score)\n",
        "  return avg_acc_score"
      ],
      "metadata": {
        "id": "rlF_dY0ZKq9V"
      },
      "execution_count": null,
      "outputs": []
    },
    {
      "cell_type": "code",
      "source": [
        "nb_kv3 = NB_Kfold(3)\n",
        "nb_kv5 = NB_Kfold(5)\n",
        "nb_kv10 = NB_Kfold(10)"
      ],
      "metadata": {
        "id": "i4_4OmKNNjf8"
      },
      "execution_count": null,
      "outputs": []
    },
    {
      "cell_type": "markdown",
      "source": [
        "**Conclusion - kfold**"
      ],
      "metadata": {
        "id": "8wxbAtiOgR_P"
      }
    },
    {
      "cell_type": "code",
      "source": [
        "kfold_df = pd.DataFrame([\n",
        "    ['Naive Bayer', 'k=3', nb_kv3],\n",
        "    ['Naive Bayer', 'k=5', nb_kv5],\n",
        "    ['Naive Bayer', 'k=10', nb_kv10],\n",
        "    ['Random forest(sklearn)', 'k=3', rfc_result_3],\n",
        "    ['Random forest(sklearn)', 'k=5', rfc_result_5],\n",
        "    ['Random forest(sklearn)', 'k=10', rfc_result_10],\n",
        "    ['XGBoost', 'k=3', xgb_result_3],\n",
        "    ['XGBoost', 'k=5', xgb_result_5],\n",
        "    ['XGBoost', 'k=10', xgb_result_10],\n",
        "    ['Catboost', 'k=3', cbc_result_3],\n",
        "    ['Catboost', 'k=5', cbc_result_5],\n",
        "    ['Catboost', 'k=10', cbc_result_10],\n",
        "    ['LightGBM', 'k=3', lgbm_result_3],\n",
        "    ['LightGBM', 'k=5', lgbm_result_5],\n",
        "    ['LightGBM', 'k=10', lgbm_result_10]], columns=['Models', 'k fold', 'Accuracy'])\n",
        "plt.xticks(rotation=-15,size=15)\n",
        "plt.yticks(size=15)\n",
        "sns.set(rc = {'figure.figsize':(25,12)})\n",
        "kf_acc_plot = sns.barplot(x='Models', y='Accuracy', hue='k fold', data=kfold_df)\n",
        "kf_acc_plot.set_title('Comparison of performance with different k cross-validation',size=25)\n",
        "for p in kf_acc_plot.patches:\n",
        "    kf_acc_plot.annotate(f'\\n{round(p.get_height(),2)}', (p.get_x(), p.get_height()), color='black', size=15)"
      ],
      "metadata": {
        "id": "nOn60pNDgUX8"
      },
      "execution_count": null,
      "outputs": []
    },
    {
      "cell_type": "markdown",
      "source": [
        "Conclusion - 5 fold cross-validation and model performance"
      ],
      "metadata": {
        "id": "NL0mM4h1mF6e"
      }
    },
    {
      "cell_type": "code",
      "source": [
        "perform_df = pd.DataFrame([\n",
        "    ['Naive Bayer', 'k=1', test_accuracy_nb],\n",
        "    ['Naive Bayer', 'k=5', nb_kv5],\n",
        "    ['Random forest(sklearn)', 'k=1', test_accuracy_rfc],\n",
        "    ['Random forest(sklearn)', 'k=5', rfc_result_5],\n",
        "    ['XGBoost', 'k=1', test_accuracy_xgb],\n",
        "    ['XGBoost', 'k=5', xgb_result_5],\n",
        "    ['Catboost', 'k=1', test_accuracy_cbc],\n",
        "    ['Catboost', 'k=5', cbc_result_5],\n",
        "    ['LightGBM', 'k=1', test_accuracy_lgbm],\n",
        "    ['LightGBM', 'k=5', lgbm_result_10]], columns=['Models', 'k', 'Accuracy'])\n"
      ],
      "metadata": {
        "id": "ERwYKxqxmkV4"
      },
      "execution_count": null,
      "outputs": []
    },
    {
      "cell_type": "markdown",
      "source": [
        "# AUC"
      ],
      "metadata": {
        "id": "P0WDFmDEa7OF"
      }
    },
    {
      "cell_type": "markdown",
      "source": [
        "**Naive Bayer**"
      ],
      "metadata": {
        "id": "pxuNPAaLbCwG"
      }
    },
    {
      "cell_type": "code",
      "source": [
        "from sklearn import metrics"
      ],
      "metadata": {
        "id": "4dBz3ETAYWnO"
      },
      "execution_count": null,
      "outputs": []
    },
    {
      "cell_type": "code",
      "source": [
        "def AUC(model_name,test_data_y,test_pred_y):  \n",
        "  fpr, tpr, thresholds = metrics.roc_curve(test_data_y, test_pred_y)\n",
        "  auc = round(metrics.auc(fpr, tpr)*100,2)\n",
        "  print(\"AUC of {} : \".format(model_name),auc)\n",
        "  return auc"
      ],
      "metadata": {
        "id": "u0cWe8CdbOxE"
      },
      "execution_count": null,
      "outputs": []
    },
    {
      "cell_type": "code",
      "source": [
        "nb_auc = AUC('Naive Bayer',y_test,y_test_nb)\n",
        "rfc_auc = AUC('Random Forest sklearn',y_test,y_test_rfc)\n",
        "xgb_auc = AUC('XGBoost',y_test,y_test_xgb)\n",
        "cbc_auc = AUC('Catboost',y_test,y_test_cbc)\n",
        "lgbm_auc = AUC('Light GBM',y_test,y_test_lgbm)"
      ],
      "metadata": {
        "id": "SzlrmaLfdSVi"
      },
      "execution_count": null,
      "outputs": []
    }
  ]
}